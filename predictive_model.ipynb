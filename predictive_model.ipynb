{
 "cells": [
  {
   "cell_type": "code",
   "execution_count": 155,
   "metadata": {},
   "outputs": [],
   "source": [
    "import pandas as pd\n",
    "import numpy as np\n",
    "import matplotlib as plt\n",
    "from sklearn.impute import SimpleImputer"
   ]
  },
  {
   "cell_type": "code",
   "execution_count": 156,
   "metadata": {},
   "outputs": [
    {
     "data": {
      "text/plain": [
       "Id                                         0\n",
       "date                                       0\n",
       "Lagging_Current_Reactive.Power_kVarh       0\n",
       "Leading_Current_Reactive_Power_kVarh     119\n",
       "CO2(tCO2)                                  0\n",
       "Lagging_Current_Power_Factor               0\n",
       "Leading_Current_Power_Factor              76\n",
       "NSM                                        0\n",
       "WeekStatus                              1774\n",
       "Day_of_week                             1774\n",
       "Load_Type                                  0\n",
       "Usage_kWh                                  0\n",
       "dtype: int64"
      ]
     },
     "execution_count": 156,
     "metadata": {},
     "output_type": "execute_result"
    }
   ],
   "source": [
    "df=pd.read_csv('Energy Consumption/train.csv')\n",
    "df.isnull().sum()"
   ]
  },
  {
   "cell_type": "code",
   "execution_count": 157,
   "metadata": {},
   "outputs": [],
   "source": [
    "X = df.drop(['Usage_kWh','Id','date'], axis=1)\n",
    "y=df['Usage_kWh']"
   ]
  },
  {
   "cell_type": "code",
   "execution_count": 158,
   "metadata": {},
   "outputs": [],
   "source": [
    "# Impute Missing Values\n",
    "\n",
    "df.drop_duplicates(inplace=True)\n",
    "numerical_features = ['Leading_Current_Reactive_Power_kVarh','Leading_Current_Power_Factor']\n",
    "categorical_features = ['WeekStatus', 'Day_of_week']\n",
    "\n",
    "numerical_imputer=SimpleImputer(strategy='mean')\n",
    "X[numerical_features] = numerical_imputer.fit_transform(X[numerical_features])\n",
    "\n",
    "categorical_imputer = SimpleImputer(strategy='most_frequent')\n",
    "X[categorical_features] = categorical_imputer.fit_transform(X[categorical_features])"
   ]
  },
  {
   "cell_type": "code",
   "execution_count": 159,
   "metadata": {},
   "outputs": [
    {
     "name": "stdout",
     "output_type": "stream",
     "text": [
      "      WeekStatus_Weekday WeekStatus_Weekend Day_of_week_Friday  \\\n",
      "0                      1                  0                  0   \n",
      "1                      1                  0                  0   \n",
      "2                      1                  0                  0   \n",
      "3                      1                  0                  0   \n",
      "4                      1                  0                  0   \n",
      "...                  ...                ...                ...   \n",
      "27994                  1                  0                  1   \n",
      "27995                  1                  0                  1   \n",
      "27996                  1                  0                  1   \n",
      "27997                  1                  0                  1   \n",
      "27998                  1                  0                  1   \n",
      "\n",
      "      Day_of_week_Monday Day_of_week_Saturday Day_of_week_Sunday  \\\n",
      "0                      1                    0                  0   \n",
      "1                      1                    0                  0   \n",
      "2                      1                    0                  0   \n",
      "3                      1                    0                  0   \n",
      "4                      1                    0                  0   \n",
      "...                  ...                  ...                ...   \n",
      "27994                  0                    0                  0   \n",
      "27995                  0                    0                  0   \n",
      "27996                  0                    0                  0   \n",
      "27997                  0                    0                  0   \n",
      "27998                  0                    0                  0   \n",
      "\n",
      "      Day_of_week_Thursday Day_of_week_Tuesday Day_of_week_Wednesday  \\\n",
      "0                        0                   0                     0   \n",
      "1                        0                   0                     0   \n",
      "2                        0                   0                     0   \n",
      "3                        0                   0                     0   \n",
      "4                        0                   0                     0   \n",
      "...                    ...                 ...                   ...   \n",
      "27994                    0                   0                     0   \n",
      "27995                    0                   0                     0   \n",
      "27996                    0                   0                     0   \n",
      "27997                    0                   0                     0   \n",
      "27998                    0                   0                     0   \n",
      "\n",
      "      Lagging_Current_Reactive.Power_kVarh  \\\n",
      "0                                     2.95   \n",
      "1                                     4.46   \n",
      "2                                     3.28   \n",
      "3                                     3.56   \n",
      "4                                      4.5   \n",
      "...                                    ...   \n",
      "27994                                32.62   \n",
      "27995                                35.46   \n",
      "27996                                30.92   \n",
      "27997                                58.18   \n",
      "27998                                40.46   \n",
      "\n",
      "      Leading_Current_Reactive_Power_kVarh CO2(tCO2)  \\\n",
      "0                                      0.0       0.0   \n",
      "1                                      0.0       0.0   \n",
      "2                                      0.0       0.0   \n",
      "3                                      0.0       0.0   \n",
      "4                                      0.0       0.0   \n",
      "...                                    ...       ...   \n",
      "27994                                  0.0      0.02   \n",
      "27995                                  0.0      0.03   \n",
      "27996                                  0.0      0.03   \n",
      "27997                                  0.0      0.04   \n",
      "27998                                  0.0      0.03   \n",
      "\n",
      "      Lagging_Current_Power_Factor Leading_Current_Power_Factor    NSM  \\\n",
      "0                            73.21                        100.0    900   \n",
      "1                            66.77                        100.0   1800   \n",
      "2                            70.28                        100.0   2700   \n",
      "3                            68.09                        100.0   3600   \n",
      "4                            64.72                        100.0   4500   \n",
      "...                            ...                          ...    ...   \n",
      "27994                        85.75                        100.0  53100   \n",
      "27995                        84.76                        100.0  54000   \n",
      "27996                        89.63                        100.0  54900   \n",
      "27997                        83.89                        100.0  55800   \n",
      "27998                        83.51                        100.0  56700   \n",
      "\n",
      "       Load_Type  \n",
      "0              0  \n",
      "1              0  \n",
      "2              0  \n",
      "3              0  \n",
      "4              0  \n",
      "...          ...  \n",
      "27994          1  \n",
      "27995          1  \n",
      "27996          1  \n",
      "27997          1  \n",
      "27998          1  \n",
      "\n",
      "[27999 rows x 16 columns]\n"
     ]
    }
   ],
   "source": [
    "from sklearn.compose import ColumnTransformer\n",
    "from sklearn.preprocessing import OneHotEncoder,LabelEncoder\n",
    "\n",
    "# Encode Categorical Features\n",
    "\n",
    "df_X=X\n",
    "ct=ColumnTransformer(transformers=[('encoder', OneHotEncoder(dtype=int),['WeekStatus', 'Day_of_week'])],remainder=\"passthrough\")\n",
    "X=ct.fit_transform(X) \n",
    "feature_names = ct.get_feature_names_out(df_X.columns) \n",
    "X = pd.DataFrame(X, columns=feature_names)\n",
    "\n",
    "X.columns = X.columns.str.replace('remainder__', '')\n",
    "X.columns = X.columns.str.replace('encoder__', '')\n",
    "\n",
    "label_encoder = LabelEncoder()\n",
    "X['Load_Type'] = label_encoder.fit_transform(X['Load_Type'])\n",
    "\n",
    "\n",
    "print(X)"
   ]
  },
  {
   "cell_type": "code",
   "execution_count": 160,
   "metadata": {},
   "outputs": [
    {
     "name": "stdout",
     "output_type": "stream",
     "text": [
      "      Lagging_Current_Reactive.Power_kVarh  \\\n",
      "0                                     2.95   \n",
      "1                                     4.46   \n",
      "2                                     3.28   \n",
      "3                                     3.56   \n",
      "4                                      4.5   \n",
      "...                                    ...   \n",
      "27994                                32.62   \n",
      "27995                                35.46   \n",
      "27996                                30.92   \n",
      "27997                                58.18   \n",
      "27998                                40.46   \n",
      "\n",
      "      Leading_Current_Reactive_Power_kVarh CO2(tCO2)  \\\n",
      "0                                      0.0       0.0   \n",
      "1                                      0.0       0.0   \n",
      "2                                      0.0       0.0   \n",
      "3                                      0.0       0.0   \n",
      "4                                      0.0       0.0   \n",
      "...                                    ...       ...   \n",
      "27994                                  0.0      0.02   \n",
      "27995                                  0.0      0.03   \n",
      "27996                                  0.0      0.03   \n",
      "27997                                  0.0      0.04   \n",
      "27998                                  0.0      0.03   \n",
      "\n",
      "      Lagging_Current_Power_Factor Leading_Current_Power_Factor    NSM  \\\n",
      "0                            73.21                        100.0    900   \n",
      "1                            66.77                        100.0   1800   \n",
      "2                            70.28                        100.0   2700   \n",
      "3                            68.09                        100.0   3600   \n",
      "4                            64.72                        100.0   4500   \n",
      "...                            ...                          ...    ...   \n",
      "27994                        85.75                        100.0  53100   \n",
      "27995                        84.76                        100.0  54000   \n",
      "27996                        89.63                        100.0  54900   \n",
      "27997                        83.89                        100.0  55800   \n",
      "27998                        83.51                        100.0  56700   \n",
      "\n",
      "       Load_Type  \n",
      "0              0  \n",
      "1              0  \n",
      "2              0  \n",
      "3              0  \n",
      "4              0  \n",
      "...          ...  \n",
      "27994          1  \n",
      "27995          1  \n",
      "27996          1  \n",
      "27997          1  \n",
      "27998          1  \n",
      "\n",
      "[27999 rows x 7 columns]\n"
     ]
    }
   ],
   "source": [
    "from sklearn.feature_selection import mutual_info_regression\n",
    "\n",
    "# Apply Feature Engineering Using Mutual Info  Regression (MIR) to reduce dimensionality \n",
    "\n",
    "mi = mutual_info_regression(X, y)\n",
    "selected_features = X.columns[mi > 0.1]  \n",
    "X = X[selected_features]\n",
    "print(X)"
   ]
  },
  {
   "cell_type": "code",
   "execution_count": 161,
   "metadata": {},
   "outputs": [],
   "source": [
    "from sklearn.model_selection import train_test_split\n",
    "from sklearn.model_selection import KFold, cross_validate,learning_curve\n",
    "from sklearn.preprocessing import StandardScaler\n",
    "from sklearn.metrics import mean_squared_error, mean_absolute_error, r2_score, make_scorer\n",
    "import matplotlib.pyplot as plt"
   ]
  },
  {
   "cell_type": "code",
   "execution_count": 162,
   "metadata": {},
   "outputs": [
    {
     "name": "stdout",
     "output_type": "stream",
     "text": [
      "Average R2 Score: 0.9983869122965088\n",
      "Average RMSE: 1.3617035848439438\n"
     ]
    }
   ],
   "source": [
    "from sklearn.preprocessing import PolynomialFeatures\n",
    "from sklearn.linear_model import LinearRegression\n",
    "# Define the number of folds for cross-validation\n",
    "n_splits = 5\n",
    "degree = 3  # Best degree determined from previous analysis\n",
    "\n",
    "# Initialize lists to store performance metrics for each fold\n",
    "r2_scores = []\n",
    "rmse_scores = []\n",
    "\n",
    "# Initialize KFold with 5 folds\n",
    "kf = KFold(n_splits=n_splits, shuffle=True, random_state=42)\n",
    "\n",
    "for train_index, val_index in kf.split(X):\n",
    "    X_train, X_val = X.iloc[train_index], X.iloc[val_index]\n",
    "    y_train, y_val = y.iloc[train_index], y.iloc[val_index]\n",
    "\n",
    "    # Create polynomial features\n",
    "    poly_features = PolynomialFeatures(degree=degree)\n",
    "    X_train_poly = poly_features.fit_transform(X_train)\n",
    "    X_val_poly = poly_features.transform(X_val)\n",
    "\n",
    "    # Scale features\n",
    "    best_scaler = StandardScaler()\n",
    "    X_train_scaled = best_scaler.fit_transform(X_train_poly)\n",
    "    X_val_scaled = best_scaler.transform(X_val_poly)\n",
    "\n",
    "    # Train Linear Regression model\n",
    "    best_model = LinearRegression()\n",
    "    best_model.fit(X_train_scaled, y_train)\n",
    "\n",
    "    # Predict on the validation set\n",
    "    y_val_pred = best_model.predict(X_val_scaled)\n",
    "\n",
    "    # Calculate R2 score and RMSE\n",
    "    r2 = r2_score(y_val, y_val_pred)\n",
    "    rmse = np.sqrt(mean_squared_error(y_val, y_val_pred))\n",
    "\n",
    "    # Append scores to lists\n",
    "    r2_scores.append(r2)\n",
    "    rmse_scores.append(rmse)\n",
    "\n",
    "# Calculate average R2 score and RMSE across all folds\n",
    "avg_r2_score = np.mean(r2_scores)\n",
    "avg_rmse_score = np.mean(rmse_scores)\n",
    "\n",
    "# Print average R2 score and RMSE\n",
    "print(f\"Average R2 Score: {avg_r2_score}\")\n",
    "print(f\"Average RMSE: {avg_rmse_score}\")"
   ]
  },
  {
   "cell_type": "code",
   "execution_count": 133,
   "metadata": {},
   "outputs": [
    {
     "name": "stdout",
     "output_type": "stream",
     "text": [
      "\n",
      "Polynomial Degree: 2\n",
      "\n",
      "Average Metrics:\n",
      "Validation Set:\n",
      "Average RMSE: 1.8359\n",
      "Average MAE: 1.2170\n",
      "Average R-squared: 0.9964\n",
      "\n",
      "Test Set:\n",
      "Average RMSE: 2.0291\n",
      "Average MAE: 1.3469\n",
      "Average R-squared: 0.9956\n"
     ]
    }
   ],
   "source": [
    "# # Plot Learning Curve of Best Degree\n",
    "# from sklearn.linear_model import LinearRegression\n",
    "# # Polynomial Linear Regression Model\n",
    "\n",
    "# from sklearn.preprocessing import PolynomialFeatures\n",
    "# from sklearn.pipeline import make_pipeline\n",
    "\n",
    "# k = 5\n",
    "# kf = KFold(n_splits=k, shuffle=True, random_state=42)\n",
    "\n",
    "\n",
    "# degree=2\n",
    "\n",
    "\n",
    "\n",
    "# print(f\"\\nPolynomial Degree: {degree}\")\n",
    "\n",
    "# rmse_val, mae_val, r2_val = [], [], []\n",
    "# rmse_test, mae_test, r2_test = [], [], []\n",
    "\n",
    "# for fold, (train_index, test_index) in enumerate(kf.split(X)):\n",
    "#     X_train, X_test = X.iloc[train_index], X.iloc[test_index]\n",
    "#     y_train, y_test = y.iloc[train_index], y.iloc[test_index]\n",
    "\n",
    "#     train_size = int(len(X_train) * 0.7)\n",
    "#     val_size = test_size = int(len(X_train) * 0.15)\n",
    "\n",
    "#     X_train, X_val, X_test = X_train.iloc[:train_size], X_train.iloc[train_size:train_size + val_size], X_train.iloc[train_size + val_size:]\n",
    "#     y_train, y_val, y_test = y_train.iloc[:train_size], y_train.iloc[train_size:train_size + val_size], y_train.iloc[train_size + val_size:]\n",
    "\n",
    "#     best_scaler = StandardScaler()\n",
    "#     X_train_scaled = best_scaler.fit_transform(X_train)\n",
    "#     X_val_scaled = best_scaler.transform(X_val)\n",
    "#     X_test_scaled = best_scaler.transform(X_test)\n",
    "\n",
    "#     best_model = make_pipeline(PolynomialFeatures(degree), LinearRegression())\n",
    "#     best_model.fit(X_train_scaled, y_train)\n",
    "\n",
    "#     y_val_pred = best_model.predict(X_val_scaled)\n",
    "\n",
    "#     rmse_val.append(np.sqrt(mean_squared_error(y_val, y_val_pred)))\n",
    "#     mae_val.append(mean_absolute_error(y_val, y_val_pred))\n",
    "#     r2_val.append(r2_score(y_val, y_val_pred))\n",
    "\n",
    "#     y_test_pred = best_model.predict(X_test_scaled)\n",
    "\n",
    "#     rmse_test.append(np.sqrt(mean_squared_error(y_test, y_test_pred)))\n",
    "#     mae_test.append(mean_absolute_error(y_test, y_test_pred))\n",
    "#     r2_test.append(r2_score(y_test, y_test_pred))\n",
    "\n",
    "#     # avg_rmse_val.append(np.mean(rmse_val))\n",
    "#     # avg_mae_val.append(np.mean(mae_val))\n",
    "#     # avg_r2_val.append(np.mean(r2_val))\n",
    "\n",
    "#     # avg_rmse_test.append(np.mean(rmse_test))\n",
    "#     # avg_mae_test.append(np.mean(mae_test))\n",
    "#     # avg_r2_test.append(np.mean(r2_test))\n",
    "\n",
    "# print(\"\\nAverage Metrics:\")\n",
    "# print(\"Validation Set:\")\n",
    "# print(f\"Average RMSE: {np.mean(rmse_val):.4f}\")\n",
    "# print(f\"Average MAE: {np.mean(mae_val):.4f}\")\n",
    "# print(f\"Average R-squared: {np.mean(r2_val):.4f}\")\n",
    "\n",
    "# print(\"\\nTest Set:\")\n",
    "# print(f\"Average RMSE: {np.mean(rmse_test):.4f}\")\n",
    "# print(f\"Average MAE: {np.mean(mae_test):.4f}\")\n",
    "# print(f\"Average R-squared: {np.mean(r2_test):.4f}\")\n",
    "\n",
    "\n",
    "# # best_degree = degrees_to_try[np.argmin(avg_rmse_val)]\n",
    "# # print(f\"\\nBest Polynomial Degree based on Average RMSE : {best_degree}\")\n",
    "\n",
    "# # print(\"\\nAverage Performance Metrics for the Best Degree on Validation Set:\")\n",
    "# # print(f\"Average RMSE: {avg_rmse_val[degrees_to_try.index(best_degree)]:.4f}\")\n",
    "# # print(f\"Average MAE: {avg_mae_val[degrees_to_try.index(best_degree)]:.4f}\")\n",
    "# # print(f\"Average R-squared: {avg_r2_val[degrees_to_try.index(best_degree)]:.4f}\")\n",
    "\n",
    "# # print(\"\\nAverage Performance Metrics for the Best Degree on Test Set:\")\n",
    "# # print(f\"Average RMSE: {avg_rmse_test[degrees_to_try.index(best_degree)]:.4f}\")\n",
    "# # print(f\"Average MAE: {avg_mae_test[degrees_to_try.index(best_degree)]:.4f}\")\n",
    "# # print(f\"Average R-squared: {avg_r2_test[degrees_to_try.index(best_degree)]:.4f}\")\n"
   ]
  },
  {
   "cell_type": "code",
   "execution_count": 163,
   "metadata": {},
   "outputs": [
    {
     "data": {
      "text/plain": [
       "Id                                        0\n",
       "date                                      0\n",
       "Lagging_Current_Reactive.Power_kVarh      0\n",
       "Leading_Current_Reactive_Power_kVarh      0\n",
       "CO2(tCO2)                                 0\n",
       "Lagging_Current_Power_Factor              0\n",
       "Leading_Current_Power_Factor              0\n",
       "NSM                                       0\n",
       "WeekStatus                              692\n",
       "Day_of_week                             692\n",
       "Load_Type                                 0\n",
       "dtype: int64"
      ]
     },
     "execution_count": 163,
     "metadata": {},
     "output_type": "execute_result"
    }
   ],
   "source": [
    "df_test=pd.read_csv('Energy Consumption/test.csv')\n",
    "df_test.isna().sum()"
   ]
  },
  {
   "cell_type": "code",
   "execution_count": 164,
   "metadata": {},
   "outputs": [
    {
     "name": "stdout",
     "output_type": "stream",
     "text": [
      "(7041, 7)\n"
     ]
    }
   ],
   "source": [
    "X_testing = df_test.drop(['Id','date','WeekStatus','Day_of_week'], axis=1)\n",
    "print(X_testing.shape)"
   ]
  },
  {
   "cell_type": "code",
   "execution_count": 165,
   "metadata": {},
   "outputs": [
    {
     "name": "stdout",
     "output_type": "stream",
     "text": [
      "      Lagging_Current_Reactive.Power_kVarh  \\\n",
      "0                                    63.68   \n",
      "1                                    54.18   \n",
      "2                                    55.04   \n",
      "3                                    36.40   \n",
      "4                                    35.17   \n",
      "...                                    ...   \n",
      "7036                                  4.86   \n",
      "7037                                  3.74   \n",
      "7038                                  3.17   \n",
      "7039                                  3.06   \n",
      "7040                                  3.02   \n",
      "\n",
      "      Leading_Current_Reactive_Power_kVarh  CO2(tCO2)  \\\n",
      "0                                     0.00       0.05   \n",
      "1                                     0.00       0.04   \n",
      "2                                     0.00       0.04   \n",
      "3                                     0.00       0.03   \n",
      "4                                     0.00       0.03   \n",
      "...                                    ...        ...   \n",
      "7036                                  0.00       0.00   \n",
      "7037                                  0.00       0.00   \n",
      "7038                                  0.07       0.00   \n",
      "7039                                  0.11       0.00   \n",
      "7040                                  0.07       0.00   \n",
      "\n",
      "      Lagging_Current_Power_Factor  Leading_Current_Power_Factor    NSM  \\\n",
      "0                            84.19                        100.00  57600   \n",
      "1                            85.28                        100.00  58500   \n",
      "2                            85.28                        100.00  59400   \n",
      "3                            84.13                        100.00  60300   \n",
      "4                            85.08                        100.00  61200   \n",
      "...                            ...                           ...    ...   \n",
      "7036                         62.10                        100.00  82800   \n",
      "7037                         70.71                        100.00  83700   \n",
      "7038                         76.62                         99.98  84600   \n",
      "7039                         77.72                         99.96  85500   \n",
      "7040                         77.22                         99.98      0   \n",
      "\n",
      "      Load_Type  \n",
      "0             1  \n",
      "1             1  \n",
      "2             1  \n",
      "3             1  \n",
      "4             1  \n",
      "...         ...  \n",
      "7036          0  \n",
      "7037          0  \n",
      "7038          0  \n",
      "7039          0  \n",
      "7040          0  \n",
      "\n",
      "[7041 rows x 7 columns]\n"
     ]
    }
   ],
   "source": [
    "X_testing['Load_Type'] = label_encoder.transform(X_testing['Load_Type'])\n",
    "\n",
    "print(X_testing)"
   ]
  },
  {
   "cell_type": "code",
   "execution_count": 166,
   "metadata": {},
   "outputs": [
    {
     "name": "stdout",
     "output_type": "stream",
     "text": [
      "(7041, 7)\n",
      "[99.09531595 89.48389031 91.02740018 ...  4.29403783  4.56496796\n",
      "  3.9509105 ]\n"
     ]
    }
   ],
   "source": [
    "X_testing_poly = poly_features.transform(X_testing)\n",
    "\n",
    "# Scale test data using the same scaler as used for training\n",
    "X_testing_scaled = best_scaler.transform(X_testing_poly)\n",
    "\n",
    "predictions=best_model.predict(X_testing_scaled)\n",
    "print(X_testing.shape)\n",
    "print(predictions)\n"
   ]
  },
  {
   "cell_type": "code",
   "execution_count": 167,
   "metadata": {},
   "outputs": [
    {
     "data": {
      "text/plain": [
       "(7041, 2)"
      ]
     },
     "execution_count": 167,
     "metadata": {},
     "output_type": "execute_result"
    }
   ],
   "source": [
    "predictions_df = pd.DataFrame({'Id': df_test['Id'], 'Usage_kWh': predictions})\n",
    "\n",
    "predictions_df.shape\n",
    "\n"
   ]
  },
  {
   "cell_type": "code",
   "execution_count": 125,
   "metadata": {},
   "outputs": [],
   "source": [
    "predictions_df.to_csv('predictions.csv', index=False)"
   ]
  }
 ],
 "metadata": {
  "kernelspec": {
   "display_name": "Python 3",
   "language": "python",
   "name": "python3"
  },
  "language_info": {
   "codemirror_mode": {
    "name": "ipython",
    "version": 3
   },
   "file_extension": ".py",
   "mimetype": "text/x-python",
   "name": "python",
   "nbconvert_exporter": "python",
   "pygments_lexer": "ipython3",
   "version": "3.11.5"
  }
 },
 "nbformat": 4,
 "nbformat_minor": 2
}
